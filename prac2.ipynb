{
 "cells": [
  {
   "cell_type": "markdown",
   "metadata": {},
   "source": [
    "# Introduction to Artificial Intelligence for Non Computing"
   ]
  },
  {
   "cell_type": "markdown",
   "metadata": {},
   "source": [
    "## Practical 2 (weeks 3 - 4)"
   ]
  },
  {
   "cell_type": "markdown",
   "metadata": {},
   "source": [
    "## Search Techniques"
   ]
  },
  {
   "cell_type": "markdown",
   "metadata": {},
   "source": [
    "The following links provide additional information about depth first search and breath first search"
   ]
  },
  {
   "cell_type": "markdown",
   "metadata": {},
   "source": [
    "- Depth first search:   link：https://pan.baidu.com/s/1bkLHKKbSBNpfFuKwDyURqw  password：oy76\n",
    "- Breath first search:  link：https://pan.baidu.com/s/176g5q0W3rGbSAM5tZMraeg   password：7mdh"
   ]
  },
  {
   "cell_type": "markdown",
   "metadata": {},
   "source": [
    "#### Theory Questions "
   ]
  },
  {
   "cell_type": "markdown",
   "metadata": {},
   "source": [
    "1\\. What is an algorithm? A sequence of steps such as a recipe or a movie script.\n",
    "\n",
    "As a movie viewer, please write an algorithm for a process to \"see a movie\". Include details of the following for example (add additional information yourself):\n",
    "\t- The start conditions \n",
    "\t-- I want to watch a movie\n",
    "\t- Roles (people/actors involved) \n",
    "    --watcher, ticket seller etc \n",
    "    -Equipment required (\"props\")\n",
    "    --seats, ticket etc\n",
    "    - The scenes \n",
    "    -- scene 1 - buy ticket \n",
    "    -- ??? what happens next\n",
    "    -- scene 3, scene 3 ...\n",
    "    - Results/outcomes\n",
    "    -- ?\n"
   ]
  },
  {
   "cell_type": "markdown",
   "metadata": {},
   "source": [
    "_your answer here..._ \n",
    "\n",
    "***"
   ]
  },
  {
   "cell_type": "markdown",
   "metadata": {},
   "source": [
    "2\\. A farmer with his wolf, duck and bag of corn come to the east side of a river they wish to cross. There is a boat at the rivers edge, but of course only the farmer can row. The boat can only hold two things (including the rower) at any one time. If the wolf is ever left alone with the duck, the wolf will eat it. Similarly if the duck is ever left alone with the corn, the duck will eat it. How can the farmer get across the river so that all four arrive safely on the other side? "
   ]
  },
  {
   "cell_type": "markdown",
   "metadata": {},
   "source": [
    "_your answer here..._ \n",
    "\n",
    "***"
   ]
  },
  {
   "cell_type": "markdown",
   "metadata": {},
   "source": [
    " "
   ]
  },
  {
   "cell_type": "markdown",
   "metadata": {},
   "source": [
    "3\\.Explain why we determine our problem goals before we write the problem formulation (including the model and deciding what algorithm or techniques to use - for example search, or other method).\n",
    "\n",
    "See Chapter3.1 (Russel & Norvig)"
   ]
  },
  {
   "cell_type": "markdown",
   "metadata": {},
   "source": [
    "_your answer here..._ \n",
    "\n",
    "****"
   ]
  },
  {
   "cell_type": "markdown",
   "metadata": {},
   "source": [
    "4\\. This question requires you to perform BFS and DFS on paper.\n",
    "\n",
    "<img src=\"img/p1.png\" width=\"180\" height=\"180\" >\n",
    "\n",
    "1. Simulate (on pencil-and-paper) breadth-first search starting from node A when the goal node is K.\n",
    "2. Simulate (on pencil-and-paper) depth first search starting from node A when the goal node is I.\n"
   ]
  },
  {
   "cell_type": "markdown",
   "metadata": {},
   "source": [
    "1. _your answer here..._ \n",
    "2. _your answer here..._ \n",
    "\n",
    "***"
   ]
  },
  {
   "cell_type": "markdown",
   "metadata": {},
   "source": [
    "5\\.Consider a state space where the start state is number 1 and each state  k has two successors: numbers 2k and 2k + 1.\n",
    "- a. Draw the portion of the state space for states 1 to 15.\n",
    "- b. Suppose the goal state is 11. List the order in which nodes will be visited for breadthfirst\n",
    "search, depth-limited search with limit 3, and iterative deepening search.\n",
    "- c. How well would bidirectional search work on this problem? What is the branching\n",
    "factor in each direction of the bidirectional search?\n",
    "- d. Does the answer to (c) suggest a reformulation of the problem that would allow you to\n",
    "solve the problem of getting from state 1 to a given goal state with almost no search?\n",
    "- e. Call the action going from k to 2k Left, and the action going to 2k + 1 Right. Can you\n",
    "find an algorithm that outputs the solution to this problem without any search at all?\n",
    "\n",
    "See textbook Chapter3.15"
   ]
  },
  {
   "cell_type": "markdown",
   "metadata": {},
   "source": [
    "Breadth-first: 1 2 3 4 5 6 7 8 9 10 11. Depth-limited: 1 2 4 8 9 5 10 11. Iterative deepening: 1; 1 2 3; 1 2 4 5 3 6 7; 1 2 4 8 9 5 10 11\n",
    "Bidirectional search is very useful, because the only successor of n in the reverse direction is ⌊(n/2)⌋. This helps focus the search. The branching factor is 2 in the forward direction; 1 in the reverse direction.\n",
    "Yes; start at the goal, and apply the single reverse successor action until you reach 1.\n",
    "The solution can be read off the binary numeral for the goal number. Write the goal number in binary. Since we can only reach positive integers, this binary expansion beings with a 1. From most- to least- significant bit, skipping the initial 1, go Left to the node 2n if this bit is 0 and go Right to node 2n + 1 if it is 1. For example, suppose the goal is 11, which is 1011 in binary. The solution is therefore Left, Right, Right."
   ]
  },
  {
   "cell_type": "markdown",
   "metadata": {},
   "source": [
    "### Programming Excercises"
   ]
  },
  {
   "cell_type": "markdown",
   "metadata": {},
   "source": [
    "1\\.Write a program to solve a classic ancient Chinese puzzle:  \n",
    " We count 35 heads and 94 legs among the chickens and rabbits in a farm. How many rabbits and how many chickens do we have? "
   ]
  },
  {
   "cell_type": "code",
   "execution_count": 1,
   "metadata": {},
   "outputs": [],
   "source": [
    "def solve(numheads,numlegs): \n",
    "    ns='No solutions!' \n",
    "    for i in range(numheads+1): \n",
    "        j=numheads-i \n",
    "        if 2*i+4*j==numlegs: \n",
    "            return i,j \n",
    "    return ns,ns \n",
    "numheads=35 \n",
    "numlegs=94 \n",
    "solutions=solve(numheads,numlegs) \n",
    "print (solutions)"
   ]
  },
  {
   "cell_type": "markdown",
   "metadata": {},
   "source": [
    "2\\. _Social networking_ Please look at the graph below of social relationships. You have a mango farm, you need to find a mango buyer and sell him your mango that you have grown (just a small farm). To this end, our principle is to use our social network of friends separated by one degree, and then second degree friends (friends of friends), third degree friends (friends of friends of friends).\n",
    "\n",
    "Use the depth first algorithm to search your network until you find a mango seller. \n",
    "\n",
    "We make an assumption that if the person's name ends with m, then it means the person must be the mango seller!\n",
    "\n",
    "\n",
    "<img src=\"img/p3.png\" width=\"500\" height=\"400\" >"
   ]
  },
  {
   "cell_type": "code",
   "execution_count": 4,
   "metadata": {},
   "outputs": [],
   "source": [
    "## write your answer here!\n",
    "from collections import deque\n",
    "\n",
    "graph = {}\n",
    "graph[\"you\"] = [\"alice\",\"bob\",\"claire\"]\n",
    "graph[\"bob\"] = [\"anuj\",\"peggy\"]\n",
    "graph[\"alice\"] = [\"peggy\"]\n",
    "graph[\"claire\"] = [\"thom\",\"jonny\"]\n",
    "graph[\"anuj\"] = []\n",
    "graph[\"peggy\"] = []\n",
    "graph[\"thom\"] = []\n",
    "graph[\"jonny\"] = []\n",
    "\n",
    "\n",
    "# Suppose we judge this way, if the person's name ends with m, then it is the mango seller.\n",
    "def person_is_seller(name):\n",
    "    return name[-1] == \"m\"\n",
    "\n",
    "def main():\n",
    "    # Create a queue\n",
    "    search_queue = deque()\n",
    "    # Add your neighbor to this search queue.\n",
    "    search_queue += graph[\"you\"]\n",
    "\n",
    "    # This data is used to record people who have checked.\n",
    "    searched = []\n",
    "\n",
    "    # As long as the queue is not empty, the first person will be taken out.\n",
    "    while search_queue:\n",
    "        person = search_queue.popleft()\n",
    "        # It is only when the person has not checked.\n",
    "        if not person in searched:\n",
    "            if person_is_seller(person):\n",
    "                print(person + \" is a mango seller!\")\n",
    "                return True\n",
    "            else:\n",
    "                search_queue += graph[person]\n",
    "                # Mark this person as checked.\n",
    "                searched.append(person)\n",
    "    return False\n",
    "\n",
    "if __name__ == '__main__':\n",
    "    main()"
   ]
  },
  {
   "cell_type": "markdown",
   "metadata": {},
   "source": [
    "3\\. Depth First traverse：Use depth first traversal to traverse all the DLL files on the C disk and output the file names.\n",
    "\n",
    "Update your code to search for a particular filename.\n",
    "\n",
    "What protocol did you use to select the next node to expand on the fringe?"
   ]
  },
  {
   "cell_type": "code",
   "execution_count": null,
   "metadata": {},
   "outputs": [],
   "source": [
    "## write your answer here!\n",
    "from collections import deque\n",
    "\n",
    "graph = {}\n",
    "graph[\"you\"] = [\"alice\",\"bob\",\"claire\"]\n",
    "graph[\"bob\"] = [\"anuj\",\"peggy\"]\n",
    "graph[\"alice\"] = [\"peggy\"]\n",
    "graph[\"claire\"] = [\"thom\",\"jonny\"]\n",
    "graph[\"anuj\"] = []\n",
    "graph[\"peggy\"] = []\n",
    "graph[\"thom\"] = []\n",
    "graph[\"jonny\"] = []\n",
    "\n",
    "\n",
    "# Suppose we judge this way, if the person's name ends with m, then it is the mango seller.\n",
    "def person_is_seller(name):\n",
    "    return name[-1] == \"m\"\n",
    "\n",
    "def main():\n",
    "    # Create a queue\n",
    "    search_queue = deque()\n",
    "    # Add your neighbor to this search queue.\n",
    "    search_queue += graph[\"you\"]\n",
    "\n",
    "    # This data is used to record people who have checked.\n",
    "    searched = []\n",
    "\n",
    "    # As long as the queue is not empty, the first person will be taken out.\n",
    "    while search_queue:\n",
    "        person = search_queue.popleft()\n",
    "        # It is only when the person has not checked.\n",
    "        if not person in searched:\n",
    "            if person_is_seller(person):\n",
    "                print(person + \" is a mango seller!\")\n",
    "                return True\n",
    "            else:\n",
    "                search_queue += graph[person]\n",
    "                # Mark this person as checked.\n",
    "                searched.append(person)\n",
    "    return False\n",
    "\n",
    "if __name__ == '__main__':\n",
    "    main()"
   ]
  },
  {
   "cell_type": "markdown",
   "metadata": {},
   "source": [
    "4\\.\n",
    "Breadth First traverse：Use breadth traversal to traverse all the DLL files on the C disk and output the filename.\n",
    "\n",
    "Update your code to search for a particular filename."
   ]
  },
  {
   "cell_type": "markdown",
   "metadata": {},
   "source": [
    "5\\. Uniform cost search"
   ]
  },
  {
   "cell_type": "markdown",
   "metadata": {},
   "source": [
    "Consider a state space where the start state is 2 and each state k has three successors: numbers 2k, 2k+1, 2k+2. The cost from state k to each respective child is k, ground(k/2), k+2.\n",
    "\n",
    "can you implement a uniform-cost-search algorithm with python. The goal state is number 85."
   ]
  },
  {
   "cell_type": "code",
   "execution_count": null,
   "metadata": {},
   "outputs": [],
   "source": [
    "import math\n",
    "goal = 85\n",
    "state = [-1] * (goal + 1)\n",
    "state[2] = 0\n",
    "for k in range(2 , int(goal/2) + 1):\n",
    "    if state[k] < 0: continue\n",
    "    for pos, cost in [\n",
    "        (k*2, k),\n",
    "        (k*2 + 1, math.floor(k/2)),\n",
    "        (k*2+2, k+2)]:\n",
    "        if pos > goal: continue\n",
    "        if state[pos] == -1 or state[pos] > state[k] + cost:\n",
    "          state[pos] = state[k] + cost\n",
    "      # Possibly store k somewhere to build the solution.\n",
    "print (state[goal])"
   ]
  },
  {
   "cell_type": "markdown",
   "metadata": {},
   "source": [
    "6\\.a* question"
   ]
  },
  {
   "cell_type": "markdown",
   "metadata": {},
   "source": [
    "A cute cat stays in the A position, he is hungry. But the food is placed in the B position. Can you help him to find the food? \n",
    "Hint:  The problem isn't easy. It's essential for you to understand the A* algorithm before you solve this problem. Then, you can use some thought of Node in java, when you are in code.\n",
    "\n",
    "<img src=\"img/p4.png\" width=\"500\" height=\"400\" >\n"
   ]
  },
  {
   "cell_type": "code",
   "execution_count": null,
   "metadata": {},
   "outputs": [],
   "source": [
    "#coding=utf8\n",
    "\"\"\"\n",
    "    python 2.7\n",
    "    a* algorithm\n",
    "\"\"\"\n",
    "import math\n",
    "\n",
    "AB_MAP = [\n",
    "    [1, 1, 1, 1, 1, 1, 1, 1, 1, 1, 1, 1, 1, 1, 1, 1, 1, 1, 1, 1,],\n",
    "    [1, 1, 1, 1, 1, 1, 1, 1, 1, 1, 1, 1, 1, 1, 1, 1, 1, 1, 1, 1,],\n",
    "    [1, 1, 1, 1, 1, 1, 1, 1, 1, 1, 1, 1, 1, 1, 1, 1, 1, 1, 1, 1,],\n",
    "    [1, 1, 1, 1, 1, 1, 1, 1, 1, 1, 1, 1, 1, 1, 1, 1, 1, 1, 1, 1,],\n",
    "    [1, 1, 1, 1, 1, 1, 1, 1, 1, 1, 1, 1, 1, 1, 1, 1, 1, 1, 1, 1,],\n",
    "    [1, 1, 1, 1, 1, 1, 1, 1, 1, 1, 1, 1, 1, 1, 1, 1, 1, 1, 1, 1,],\n",
    "    [1, 1, 1, 1, 1, 1, 1, 1, 1, 1, 1, 1, 1, 1, 1, 1, 1, 1, 1, 1,],\n",
    "    [1, 1, 1, 1, 1, 1, 1, 1, 1, 1, 1, 1, 1, 1, 1, 1, 1, 1, 1, 1,],\n",
    "    [1, 1, 1, 1, 1, 1, 1, 1, 1, 1, 1, 1, 1, 1, 1, 1, 1, 1, 1, 1,],\n",
    "    [1, 1, 1, 1, 1, 1, 1, 1, 1, 1, 1, 1, 1, 1, 1, 1, 1, 1, 1, 1,],\n",
    "    [1, 1, 1, 1, 1, 1, 1, 1, 1, 1, 1, 1, 1, 1, 1, 1, 1, 1, 1, 1,],\n",
    "    [1, 1, 1, 1, 1, 1, 1, 1, 1, 1, 1, 1, 1, 1, 1, 1, 1, 1, 1, 1,],\n",
    "    [1, 1, 1, 1, 1, 1, 1, 1, 1, 1, 1, 1, 1, 1, 1, 1, 1, 1, 1, 1,],\n",
    "    [1, 1, 1, 1, 1, 1, 1, 1, 1, 1, 1, 1, 1, 1, 1, 1, 1, 1, 1, 1,],\n",
    "    [1, 1, 1, 1, 1, 1, 1, 1, 1, 1, 1, 1, 1, 1, 1, 1, 1, 1, 1, 1,],\n",
    "    [1, 1, 1, 1, 1, 1, 1, 1, 1, 1, 1, 1, 1, 1, 1, 1, 1, 1, 1, 1,],\n",
    "    [1, 1, 1, 1, 1, 1, 1, 1, 1, 1, 1, 1, 1, 1, 1, 1, 1, 1, 1, 1,],\n",
    "    [1, 1, 1, 1, 1, 1, 1, 1, 1, 1, 1, 1, 1, 1, 1, 1, 1, 1, 1, 1,],\n",
    "    [1, 1, 1, 1, 1, 1, 1, 1, 1, 1, 1, 1, 1, 1, 1, 1, 1, 1, 1, 1,],\n",
    "    [1, 1, 1, 1, 1, 1, 1, 1, 1, 1, 1, 1, 1, 1, 1, 1, 1, 1, 1, 1,],\n",
    "]\n",
    "POS_UP = 1\n",
    "POS_LEFT = 2\n",
    "POS_DOWN = 3\n",
    "POS_RIGHT = 4\n",
    "\n",
    "\n",
    "def mod_map(m_map, pos_x, pos_y, val):\n",
    "    \"\"\"\n",
    "        修改地图的某个点位的值\n",
    "    \"\"\"\n",
    "    m_map[pos_x][pos_y] = val\n",
    "\n",
    "\n",
    "def print_map(m_map):\n",
    "    \"\"\"\n",
    "        打印地图\n",
    "    \"\"\"\n",
    "    rows = len(m_map)\n",
    "    for i in range(0, rows - 1):\n",
    "        cols = len(m_map[i])\n",
    "        for j in range(0, cols - 1):\n",
    "            print str(m_map[i][j]) + \"\\t\",\n",
    "            j = j + 1\n",
    "        print\n",
    "        i = i + 1\n",
    "\n",
    "\n",
    "class Node(object):\n",
    "    \"\"\"\n",
    "        记录一个节点的信息\n",
    "    \"\"\"\n",
    "    def __init__(self, x, y, h_n=0, g_n=0):\n",
    "        self.pos_x = x\n",
    "        self.pos_y = y\n",
    "        self.parent = None\n",
    "        self.h_n = h_n\n",
    "        self.g_n = g_n\n",
    "        self.f_n = self.h_n + self.g_n\n",
    "\n",
    "    def update_h_n(self, target):\n",
    "        \"\"\"\n",
    "            计算h(n)\n",
    "        \"\"\"\n",
    "        self.h_n = int(math.sqrt((target.pos_x - self.pos_x)**2 + (target.pos_y - self.pos_y)**2))\n",
    "        return self.h_n\n",
    "\n",
    "    def update_g_n(self, source):\n",
    "        \"\"\"\n",
    "            计算g(n)\n",
    "        \"\"\"\n",
    "        self.g_n = int(math.sqrt((source.pos_x - self.pos_x)**2 + (source.pos_y - self.pos_y)**2))\n",
    "        return self.g_n\n",
    "\n",
    "    def update_f_n(self, source, target):\n",
    "        \"\"\"\n",
    "            计算f(n)\n",
    "        \"\"\"\n",
    "        self.f_n = self.update_g_n(source) + self.update_h_n(target)\n",
    "        return self.f_n\n",
    "\n",
    "    def update_parent(self, par):\n",
    "        \"\"\"\n",
    "            更新父节点\n",
    "        \"\"\"\n",
    "        self.parent = par\n",
    "\n",
    "    def get_adj_node(self, flag, source, target):\n",
    "        \"\"\"\n",
    "            计算邻近的节点\n",
    "        \"\"\"\n",
    "        if flag == POS_UP:\n",
    "            cur_node = Node(self.pos_x, self.pos_y - 1)\n",
    "            cur_node.update_f_n(source, target)\n",
    "            cur_node.parent = self\n",
    "            return cur_node\n",
    "        elif flag == POS_LEFT:\n",
    "            cur_node = Node(self.pos_x - 1, self.pos_y)\n",
    "            cur_node.update_f_n(source, target)\n",
    "            cur_node.parent = self\n",
    "            return cur_node\n",
    "        elif flag == POS_DOWN:\n",
    "            cur_node = Node(self.pos_x, self.pos_y + 1)\n",
    "            cur_node.update_f_n(source, target)\n",
    "            cur_node.parent = self\n",
    "            return cur_node\n",
    "        elif flag == POS_RIGHT:\n",
    "            cur_node = Node(self.pos_x + 1, self.pos_y)\n",
    "            cur_node.update_f_n(source, target)\n",
    "            cur_node.parent = self\n",
    "            return cur_node\n",
    "        else:\n",
    "            return None\n",
    "\n",
    "\n",
    "def node_addible(node, open_list, close_list):\n",
    "    \"\"\"\n",
    "        判断一个点是否在open和close表\n",
    "    \"\"\"\n",
    "    index = str(node.pos_x) + '_' + str(node.pos_y)\n",
    "    if index not in open_list and index not in close_list:\n",
    "        open_list[index] = node\n",
    "\n",
    "\n",
    "def reach_end(node, target):\n",
    "    \"\"\"\n",
    "        判断一个点是否到达终点\n",
    "    \"\"\"\n",
    "    if node and target and node.pos_x == target.pos_x and node.pos_y == target.pos_y:\n",
    "        return True\n",
    "    else:\n",
    "        return False\n",
    "\n",
    "# 该方法用于打印路径\n",
    "def handle_reach_end(node, mmap, modval, print_path=False):\n",
    "    \"\"\"\n",
    "        当一个点到达终点时的处理方法\n",
    "    \"\"\"\n",
    "    if node and mmap:\n",
    "        while node:\n",
    "            if print_path:\n",
    "                print \"x: %s, y: %s\" % (node.pos_x, node.pos_y)\n",
    "            mod_map(mmap, node.pos_x, node.pos_y, modval)\n",
    "            node = node.parent\n",
    "\n",
    "def main(source, target, open_list, close_list, mmap):\n",
    "    \"\"\"\n",
    "        主函数\n",
    "    \"\"\"\n",
    "    open_list[str(source.pos_x) + '_' + str(source.pos_y)] = source\n",
    "    while open_list:\n",
    "        tmp_dict = sorted(open_list.iteritems(), key=lambda d: d[1].f_n)\n",
    "        first_key = tmp_dict[0][0]\n",
    "        first_node = open_list[first_key]\n",
    "        del open_list[first_key]\n",
    "\n",
    "        up_node = first_node.get_adj_node(POS_UP, source, target)\n",
    "        if reach_end(up_node, target):\n",
    "            handle_reach_end(up_node, mmap, 2)\n",
    "            break\n",
    "\n",
    "        left_node = first_node.get_adj_node(POS_LEFT, source, target)\n",
    "        if reach_end(left_node, target):\n",
    "            handle_reach_end(left_node, mmap, 2)\n",
    "            break\n",
    "\n",
    "        down_node = first_node.get_adj_node(POS_DOWN, source, target)\n",
    "        if reach_end(down_node, target):\n",
    "            handle_reach_end(down_node, mmap, 2)\n",
    "            break\n",
    "\n",
    "        right_node = first_node.get_adj_node(POS_RIGHT, source, target)\n",
    "        if reach_end(right_node, target):\n",
    "            handle_reach_end(right_node, mmap, 2)\n",
    "            break\n",
    "\n",
    "        if first_key not in close_list:\n",
    "            close_list[first_key] = first_node\n",
    "\n",
    "        node_addible(up_node, open_list, close_list)\n",
    "        node_addible(down_node, open_list, close_list)\n",
    "        node_addible(left_node, open_list, close_list)\n",
    "        node_addible(right_node, open_list, close_list)\n",
    "\n",
    "\n",
    "if __name__ == '__main__':\n",
    "    print \"******************************* before *******************************\"\n",
    "    print_map(AB_MAP)\n",
    "    OPEN_LIST = {}\n",
    "    CLOSE_LIST = {}\n",
    "\n",
    "    SOURCE = Node(3, 4)\n",
    "    TARGET = Node(13, 9)\n",
    "    main(SOURCE, TARGET, OPEN_LIST, CLOSE_LIST, AB_MAP)\n",
    "\n",
    "    print \"******************************** after ********************************\"\n",
    "    mod_map(AB_MAP, SOURCE.pos_x, SOURCE.pos_y, 0)\n",
    "    mod_map(AB_MAP, TARGET.pos_x, TARGET.pos_y, 0)\n",
    "    print_map(AB_MAP)"
   ]
  }
 ],
 "metadata": {
  "kernelspec": {
   "display_name": "Python 3",
   "language": "python",
   "name": "python3"
  },
  "language_info": {
   "codemirror_mode": {
    "name": "ipython",
    "version": 3
   },
   "file_extension": ".py",
   "mimetype": "text/x-python",
   "name": "python",
   "nbconvert_exporter": "python",
   "pygments_lexer": "ipython3",
   "version": "3.6.5"
  }
 },
 "nbformat": 4,
 "nbformat_minor": 2
}
