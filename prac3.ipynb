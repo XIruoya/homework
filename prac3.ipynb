{
 "cells": [
  {
   "cell_type": "markdown",
   "metadata": {},
   "source": [
    "# Introduction to Artificial Intelligence for Non Computing"
   ]
  },
  {
   "cell_type": "markdown",
   "metadata": {},
   "source": [
    "## Practical 3 (weeks 5 - 6)"
   ]
  },
  {
   "cell_type": "markdown",
   "metadata": {},
   "source": [
    "The following links provide additional information about data analysis , machine learning and Numpy"
   ]
  },
  {
   "cell_type": "markdown",
   "metadata": {},
   "source": [
    "Python data analysis: https://www.imooc.com/learn/843\n",
    "machine learning: https://www.imooc.com/learn/717\n",
    "Numpy :https://www.imooc.com/learn/943"
   ]
  },
  {
   "cell_type": "markdown",
   "metadata": {},
   "source": [
    "#### Theory Questions"
   ]
  },
  {
   "cell_type": "markdown",
   "metadata": {},
   "source": [
    "1\\.Which of the following are true and which are false? Give brief explanations.\n",
    "- a. In a fully observable, turn-taking, zero-sum game between two perfectly rational players,it does not help the first player to know what strategy the second player is using—that is, what move the second player will make, given the first player's move.\n",
    "- b. In a partially observable, turn-taking, zero-sum game between two perfectly rational players, it does not help the first player to know what move the second player will make, given the first player's move.\n",
    "- c. A perfectly rational backgammon agent never loses.\n",
    "\n",
    "See textbook Chapter6 24.6"
   ]
  },
  {
   "cell_type": "markdown",
   "metadata": {},
   "source": [
    "_your answer here..._ \n",
    "\n",
    "***"
   ]
  },
  {
   "cell_type": "markdown",
   "metadata": {},
   "source": [
    "2\\.Define in your own words the terms constraint, backtracking search, arc consistency,backjumping, min-conflicts, and cycle cutset.\n",
    "\n",
    "See textbook Chapter6 6.16"
   ]
  },
  {
   "cell_type": "markdown",
   "metadata": {},
   "source": [
    "_your answer here..._ \n",
    "\n",
    "***"
   ]
  },
  {
   "cell_type": "markdown",
   "metadata": {},
   "source": [
    "3\\.Explain why it is a good heuristic to choose the variable that is most constrained but the value that is least constraining in a CSP search.\n",
    "\n",
    "See textbook Chapter6 6.9"
   ]
  },
  {
   "cell_type": "markdown",
   "metadata": {},
   "source": [
    "The most constrained variable makes sense because it chooses a variable that is (all other things being equal) likely to cause a failure, and it is more efficient to fail as early\n",
    "as possible (thereby pruning large parts of the search space). The least constraining value heuristic makes sense because it allows the most chances for future assignments to avoid\n",
    "conflict."
   ]
  },
  {
   "cell_type": "markdown",
   "metadata": {},
   "source": [
    "4\\.Consider the following procedure for choosing moves in games with chance nodes: \n",
    "- 1、Generate some dice-roll sequences (say, 50) down to a suitable depth (say, 8).\n",
    "- 2、With known dice rolls, the game tree becomes deterministic. For each dice-roll sequence,solve the resulting deterministic game tree using alpha-beta.\n",
    "- 3、Use the results to estimate the value of each move and to choose the best.Will this procedure work well? Why (or why not)?\n",
    "\n",
    "See textbook Chapter5 5.19"
   ]
  },
  {
   "cell_type": "markdown",
   "metadata": {},
   "source": [
    "_your answer here..._ \n",
    "\n",
    "***"
   ]
  },
  {
   "cell_type": "markdown",
   "metadata": {},
   "source": [
    "5\\. Now,please consider this game:  there are three plates A, B and C, each plate has three bills. A puts 1, 20, 50; B puts 5, 10, 100; C puts 1, 5, 20. All units are \"Yuan\". There are two persons A and B, and two of them can check out three plates and banknotes .（ A is ourself, The other is B）\n",
    "The game is divided into three steps: \n",
    "- 1、A select a plate from three plate.\n",
    "- 2、B take out two banknotes from A selected plate,and give the  banknotes to A.  \n",
    "- 3、A take one of the two banknotes, and take it away.among,A want to get the max banknotes, B want to let A to get the min.\n",
    "\n",
    "Try to understand the minimax algorithm，you can click the link:https://blog.csdn.net/tangchenyi/article/details/22920031"
   ]
  },
  {
   "cell_type": "markdown",
   "metadata": {},
   "source": [
    "_your answer here..._ \n",
    "\n",
    "***"
   ]
  },
  {
   "cell_type": "markdown",
   "metadata": {},
   "source": [
    "### Programming Excercises"
   ]
  },
  {
   "cell_type": "markdown",
   "metadata": {},
   "source": [
    "1\\. Guess number(Single number): please generate a randomly number  with the function (random), then ask someone to guess the number,I think we should give the corresponding hint, otherwise it will be very difficult to guess the number.the game will be over untill you get the right number."
   ]
  },
  {
   "cell_type": "code",
   "execution_count": 1,
   "metadata": {},
   "outputs": [],
   "source": [
    "## write your answer here!\n",
    "import random\n",
    "\n",
    "name = input(\"hi~I'm  R，what's your name:\")\n",
    "print(\"Hello   \" + name)\n",
    "xix = eval(input(\"Please enter a positive integer： \"))\n",
    "s = random.randint(0,xix+1)\n",
    "try:\n",
    "#     temp = eval(input(name + \" ,\" + \"what do you think the number in my heart?：\"))\n",
    "    print(\"in fact, you just entered the range of number(0 to you entered number).you can guess the number from the range of number\")\n",
    "except:\n",
    "    print('Now,Please enter a positive integer')\n",
    "\n",
    "while temp !=s :\n",
    "    try:\n",
    "        teop = input( name + \", I believe you can guess right. Let's do it again.:\")\n",
    "        aa = eval(teop)\n",
    "        if aa == s:\n",
    "            print(\"WOW!Bingo,Congratulations\")\n",
    "            break\n",
    "        else:\n",
    "            if aa > s:\n",
    "                print(\"Hey, brother, it's big.\")\n",
    "            else:\n",
    "                print(\"it's too little\")\n",
    "    except:\n",
    "         print('Please enter a positive integer：')"
   ]
  },
  {
   "cell_type": "markdown",
   "metadata": {},
   "source": [
    "2\\.if you had understand the guess single number games,Congratulates,next is the guess three number games,Maybe you can do it well.But this is a different way of thinking. \n",
    "first : we need generate three numbers,there are most ten times chances give  you to guess the number,of course,we also give you some cue.\n",
    "\n",
    "- 'When I say:-->It means:\n",
    "- 'error--> The 3 numbers are not in the mystical numbers.'\n",
    "- 'Only the number is correct --> the number is right , but the position is not right.'\n",
    "- 'Absolutely right--> numbers is right and the position also right.'\n",
    "\n",
    "Maybe it's better for you to understand the rule well through see the picture.\n",
    "<div style=\"float:left;\" ><img src=\"img/p1.png\" width=\"400\" height=\"300\" >"
   ]
  },
  {
   "cell_type": "code",
   "execution_count": null,
   "metadata": {},
   "outputs": [],
   "source": [
    "## write your answer here!\n",
    "import random\n",
    "NUM_DIGITS = 3\n",
    "MAX_GUESS = 10\n",
    "\n",
    "def getSecretNum():\n",
    "    # Returns a random string numbers of non repeating that consisting of NUM_DIGITS .\n",
    "    numbers = list(range(10))\n",
    "    random.shuffle(numbers)\n",
    "    secretNum = ''\n",
    "    for i in range(NUM_DIGITS):\n",
    "        secretNum += str(numbers[i])\n",
    "    return secretNum\n",
    "\n",
    "def getClues(guess, secretNum):\n",
    "    # Returns a string that is completely correct, digitally correct and erroneous, used to prompt users.\n",
    "    if guess == secretNum:\n",
    "        return 'Congratulations!'\n",
    "    clues = []\n",
    "    for i in range(len(guess)):\n",
    "        if guess[i] == secretNum[i]:\n",
    "            clues.append('Absolutely right')\n",
    "        elif guess[i] != secretNum[i] and guess[i] in secretNum:\n",
    "            clues.append('Only the number is correct')\n",
    "        else:\n",
    "            clues.append(\"error\")\n",
    "    return clues\n",
    "\n",
    "print('there are  %s numbers，please Guess what it is.' % (NUM_DIGITS))\n",
    "print('The clue I gave is:')\n",
    "print('When I say:                     It means:')\n",
    "print('error                           The 3 numbers are not in the mystical numbers.')\n",
    "print('Only the number is correct      the number is right , but the position is not right..')\n",
    "print('Absolutely right                numbers is right and the position also right.')\n",
    "\n",
    "while True:\n",
    "    secretNum = getSecretNum()\n",
    "    print('there are  %s numbers，You have  %s  chance to guess it.' % (NUM_DIGITS,MAX_GUESS))\n",
    "    guessesTaken = 1\n",
    "    #judge the game if continue.\n",
    "    while guessesTaken <= MAX_GUESS:\n",
    "        guess = ''\n",
    "        while len(guess) != NUM_DIGITS:\n",
    "            print()\n",
    "            guess = input('This is the %s time: ' % (guessesTaken))\n",
    "        print(getClues(guess, secretNum))\n",
    "        guessesTaken += 1\n",
    "        if guess == secretNum:\n",
    "            break\n",
    "        if guessesTaken > MAX_GUESS:\n",
    "            print('You lost the game,the right answer is  %s.' % (secretNum))\n",
    "    m = input('Do you want to play again? (yes or no)')\n",
    "    if not m.lower().startswith('y'):\n",
    "        break"
   ]
  },
  {
   "cell_type": "markdown",
   "metadata": {},
   "source": [
    "3\\.please try using Python's Tkinter to make a visual interface（GUI）.if you don't know anything.Maybe you can refer to the below interface.and implement it by code.\n",
    "\n",
    "<div style=\"float:left;\" ><img src=\"img/p2.png\" width=\"200\" height=\"200\" >"
   ]
  },
  {
   "cell_type": "code",
   "execution_count": null,
   "metadata": {},
   "outputs": [],
   "source": [
    "## write your answer here!\n",
    "# -*- coding: UTF-8 -*-\n",
    "from tkinter import *\n",
    "root = Tk()  # Create the background color of the window object\n",
    "# Create two lists\n",
    "li = ['C', 'python', 'php', 'html', 'SQL', 'java']\n",
    "movie = ['CSS', 'jQuery', 'Bootstrap']\n",
    "listb = Listbox(root)  # Create two list components\n",
    "listb2 = Listbox(root)\n",
    "for item in li:  # The first widget is inserted into the data\n",
    "    listb.insert(0, item)\n",
    "\n",
    "for item in movie:  # The second widget is inserted into the data\n",
    "    listb2.insert(0, item)\n",
    "\n",
    "listb.pack()  # Place the widget into the main window\n",
    "listb2.pack()\n",
    "root.mainloop()  # Enter the message cycle"
   ]
  },
  {
   "cell_type": "markdown",
   "metadata": {},
   "source": [
    "4\\.Through the initial trial of Tkinter,    please write a simple calculator.\n",
    "\n",
    "<div style=\"float:left;\" ><img src=\"img/p3.png\" width=\"180\" height=\"200\" center=\"left\"></div>\n",
    "<div style=\"float:left;\" ><img src=\"img/p4.png\" width=\"180\" height=\"200\" center=\"right\" ></div>"
   ]
  },
  {
   "cell_type": "code",
   "execution_count": 2,
   "metadata": {},
   "outputs": [],
   "source": [
    "## write your answer here!"
   ]
  },
  {
   "cell_type": "markdown",
   "metadata": {},
   "source": [
    "5\\.Ball game:Python's pinball game, which can realize the game function of the keyboard control bottom baffle moving collision ball similar to table tennis game. \n",
    "\n",
    "<div style=\"float:left;\" ><img src=\"img/p5.png\" width=\"200\" height=\"200\" center=\"left\"></div>\n",
    "<div style=\"float:left;\" ><img src=\"img/p6.png\" width=\"200\" height=\"200\" center=\"right\" ></div>\n"
   ]
  },
  {
   "cell_type": "markdown",
   "metadata": {},
   "source": [
    "this is a step:how to install the matplotlib,you can reference this link:https://blog.csdn.net/not_give_up_/article/details/79058272\n",
    "1. Ball Class\n",
    "    draw is responsible for moving Ball\n",
    "    Collision detection, bounce, Ball detection of Paddle \n",
    "2. Paddle Class\n",
    "    draw is responsible for moving Paddle\n",
    "    Collision detection to determine whether or not to continue ,Monitor keyboard events\n",
    "3. main cycle\n",
    "    Drawing the Ball and Paddle"
   ]
  },
  {
   "cell_type": "code",
   "execution_count": null,
   "metadata": {},
   "outputs": [],
   "source": [
    "## write your answer here!"
   ]
  }
 ],
 "metadata": {
  "kernelspec": {
   "display_name": "Python 3",
   "language": "python",
   "name": "python3"
  },
  "language_info": {
   "codemirror_mode": {
    "name": "ipython",
    "version": 3
   },
   "file_extension": ".py",
   "mimetype": "text/x-python",
   "name": "python",
   "nbconvert_exporter": "python",
   "pygments_lexer": "ipython3",
   "version": "3.6.5"
  }
 },
 "nbformat": 4,
 "nbformat_minor": 2
}
